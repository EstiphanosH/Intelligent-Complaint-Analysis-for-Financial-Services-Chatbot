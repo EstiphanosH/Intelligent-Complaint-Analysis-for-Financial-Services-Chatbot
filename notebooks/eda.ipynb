{
 "cells": [
  {
   "cell_type": "markdown",
   "id": "c7f02a53",
   "metadata": {},
   "source": [
    "\n",
    "# # Exploratory Data Analysis for CFPB Complaints"
   ]
  },
  {
   "cell_type": "markdown",
   "id": "a45d3a02",
   "metadata": {},
   "source": []
  },
  {
   "cell_type": "code",
   "execution_count": null,
   "id": "a290f92e",
   "metadata": {
    "vscode": {
     "languageId": "plaintext"
    }
   },
   "outputs": [],
   "source": [
    "\n",
    "\n",
    "# %%\n",
    "import pandas as pd\n",
    "import numpy as np\n",
    "import matplotlib.pyplot as plt\n",
    "import seaborn as sns\n",
    "from wordcloud import WordCloud\n",
    "from src.data_processing import clean_narrative\n",
    "\n",
    "# %%\n",
    "# Load raw data\n",
    "df = pd.read_csv('../data/raw/complaints.csv', low_memory=False)\n",
    "print(f\"Original dataset shape: {df.shape}\")\n"
   ]
  },
  {
   "cell_type": "code",
   "execution_count": null,
   "id": "424d384c",
   "metadata": {
    "vscode": {
     "languageId": "plaintext"
    }
   },
   "outputs": [],
   "source": [
    "\n",
    "# Product distribution analysis\n",
    "plt.figure(figsize=(12, 8))\n",
    "product_counts = df['Product'].value_counts()\n",
    "sns.barplot(x=product_counts.values, y=product_counts.index)\n",
    "plt.title('Complaints by Product Category')\n",
    "plt.xlabel('Number of Complaints')\n",
    "plt.tight_layout()\n",
    "plt.savefig('../docs/images/product_distribution.png')\n",
    "plt.show()"
   ]
  },
  {
   "cell_type": "code",
   "execution_count": null,
   "id": "172c4342",
   "metadata": {
    "vscode": {
     "languageId": "plaintext"
    }
   },
   "outputs": [],
   "source": [
    "# %%\n",
    "# Narrative length analysis\n",
    "df['narrative_length'] = df['Consumer complaint narrative'].apply(\n",
    "    lambda x: len(str(x).split()) if pd.notnull(x) else 0\n",
    ")\n",
    "\n",
    "plt.figure(figsize=(10, 6))\n",
    "sns.histplot(df[df['narrative_length'] > 0]['narrative_length'], bins=50, kde=True)\n",
    "plt.title('Distribution of Complaint Narrative Length')\n",
    "plt.xlabel('Word Count')\n",
    "plt.ylabel('Frequency')\n",
    "plt.axvline(df['narrative_length'].median(), color='r', linestyle='--', label=f'Median: {df[\"narrative_length\"].median()}')\n",
    "plt.legend()\n",
    "plt.tight_layout()\n",
    "plt.savefig('../docs/images/narrative_length.png')\n",
    "plt.show()\n",
    "\n",
    "print(f\"Narratives with 0 words: {len(df[df['narrative_length'] == 0)}\")\n",
    "print(f\"Median length: {df['narrative_length'].median()} words\")\n",
    "print(f\"95th percentile: {df['narrative_length'].quantile(0.95)} words\")"
   ]
  },
  {
   "cell_type": "code",
   "execution_count": null,
   "id": "ff190fdb",
   "metadata": {
    "vscode": {
     "languageId": "plaintext"
    }
   },
   "outputs": [],
   "source": [
    "# %%\n",
    "# Missing data analysis\n",
    "missing_data = df.isnull().sum().reset_index()\n",
    "missing_data.columns = ['Column', 'Missing Count']\n",
    "missing_data['Percentage'] = (missing_data['Missing Count'] / len(df)) * 100\n",
    "missing_data = missing_data[missing_data['Missing Count'] > 0].sort_values('Percentage', ascending=False)\n",
    "\n",
    "plt.figure(figsize=(10, 6))\n",
    "sns.barplot(x='Percentage', y='Column', data=missing_data)\n",
    "plt.title('Percentage of Missing Values by Column')\n",
    "plt.xlabel('Percentage Missing')\n",
    "plt.ylabel('Column')\n",
    "plt.tight_layout()\n",
    "plt.savefig('../docs/images/missing_data.png')\n",
    "plt.show()"
   ]
  },
  {
   "cell_type": "code",
   "execution_count": null,
   "id": "41e8392c",
   "metadata": {
    "vscode": {
     "languageId": "plaintext"
    }
   },
   "outputs": [],
   "source": [
    "# %%\n",
    "# Text preprocessing example\n",
    "sample_text = df['Consumer complaint narrative'].iloc[123]\n",
    "print(\"Original Text:\\n\", sample_text)\n",
    "print(\"\\nCleaned Text:\\n\", clean_narrative(sample_text))"
   ]
  },
  {
   "cell_type": "code",
   "execution_count": null,
   "id": "84d97189",
   "metadata": {
    "vscode": {
     "languageId": "plaintext"
    }
   },
   "outputs": [],
   "source": [
    "# %%\n",
    "# Word cloud for most common issues\n",
    "text = \" \".join(\n",
    "    narrative for narrative in df['Consumer complaint narrative'].dropna().astype(str)\n",
    "    if len(narrative) > 50\n",
    ")\n",
    "\n",
    "wordcloud = WordCloud(width=800, height=400, background_color='white').generate(text)\n",
    "plt.figure(figsize=(15, 8))\n",
    "plt.imshow(wordcloud, interpolation='bilinear')\n",
    "plt.axis(\"off\")\n",
    "plt.title('Most Frequent Words in Complaint Narratives', fontsize=16)\n",
    "plt.tight_layout()\n",
    "plt.savefig('../docs/images/wordcloud.png')\n",
    "plt.show()\n",
    "\n"
   ]
  },
  {
   "cell_type": "code",
   "execution_count": null,
   "id": "905c07d2",
   "metadata": {
    "vscode": {
     "languageId": "plaintext"
    }
   },
   "outputs": [],
   "source": [
    "# %%\n",
    "# Save key statistics for report\n",
    "stats = {\n",
    "    \"total_records\": len(df),\n",
    "    \"products\": product_counts.to_dict(),\n",
    "    \"missing_narratives\": len(df[df['Consumer complaint narrative'].isna()]),\n",
    "    \"median_length\": df['narrative_length'].median(),\n",
    "    \"top_5_issues\": df['Issue'].value_counts().head(5).to_dict()\n",
    "}\n",
    "\n",
    "pd.DataFrame([stats]).to_json('../docs/eda_stats.json', orient='records')"
   ]
  }
 ],
 "metadata": {
  "language_info": {
   "name": "python"
  }
 },
 "nbformat": 4,
 "nbformat_minor": 5
}
